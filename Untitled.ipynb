{
 "cells": [
  {
   "cell_type": "code",
   "execution_count": 1,
   "id": "59b1c608-ceab-4de9-ac98-8a1ba3b6dce7",
   "metadata": {},
   "outputs": [
    {
     "name": "stdout",
     "output_type": "stream",
     "text": [
      "Requirement already satisfied: pandas in /Users/santiago/anaconda3/lib/python3.11/site-packages (1.5.3)\n",
      "Requirement already satisfied: openpyxl in /Users/santiago/anaconda3/lib/python3.11/site-packages (3.0.10)\n",
      "Requirement already satisfied: matplotlib in /Users/santiago/anaconda3/lib/python3.11/site-packages (3.8.0)\n",
      "Requirement already satisfied: python-dateutil>=2.8.1 in /Users/santiago/anaconda3/lib/python3.11/site-packages (from pandas) (2.8.2)\n",
      "Requirement already satisfied: pytz>=2020.1 in /Users/santiago/anaconda3/lib/python3.11/site-packages (from pandas) (2023.3.post1)\n",
      "Requirement already satisfied: numpy>=1.21.0 in /Users/santiago/anaconda3/lib/python3.11/site-packages (from pandas) (1.24.4)\n",
      "Requirement already satisfied: et_xmlfile in /Users/santiago/anaconda3/lib/python3.11/site-packages (from openpyxl) (1.1.0)\n",
      "Requirement already satisfied: contourpy>=1.0.1 in /Users/santiago/anaconda3/lib/python3.11/site-packages (from matplotlib) (1.2.0)\n",
      "Requirement already satisfied: cycler>=0.10 in /Users/santiago/anaconda3/lib/python3.11/site-packages (from matplotlib) (0.11.0)\n",
      "Requirement already satisfied: fonttools>=4.22.0 in /Users/santiago/anaconda3/lib/python3.11/site-packages (from matplotlib) (4.25.0)\n",
      "Requirement already satisfied: kiwisolver>=1.0.1 in /Users/santiago/anaconda3/lib/python3.11/site-packages (from matplotlib) (1.4.4)\n",
      "Requirement already satisfied: packaging>=20.0 in /Users/santiago/anaconda3/lib/python3.11/site-packages (from matplotlib) (23.2)\n",
      "Requirement already satisfied: pillow>=6.2.0 in /Users/santiago/anaconda3/lib/python3.11/site-packages (from matplotlib) (10.2.0)\n",
      "Requirement already satisfied: pyparsing>=2.3.1 in /Users/santiago/anaconda3/lib/python3.11/site-packages (from matplotlib) (3.0.9)\n",
      "Requirement already satisfied: six>=1.5 in /Users/santiago/anaconda3/lib/python3.11/site-packages (from python-dateutil>=2.8.1->pandas) (1.16.0)\n",
      "\n",
      "\u001b[1m[\u001b[0m\u001b[34;49mnotice\u001b[0m\u001b[1;39;49m]\u001b[0m\u001b[39;49m A new release of pip is available: \u001b[0m\u001b[31;49m24.3.1\u001b[0m\u001b[39;49m -> \u001b[0m\u001b[32;49m25.1.1\u001b[0m\n",
      "\u001b[1m[\u001b[0m\u001b[34;49mnotice\u001b[0m\u001b[1;39;49m]\u001b[0m\u001b[39;49m To update, run: \u001b[0m\u001b[32;49mpip install --upgrade pip\u001b[0m\n",
      "Note: you may need to restart the kernel to use updated packages.\n"
     ]
    }
   ],
   "source": [
    "pip install pandas openpyxl matplotlib"
   ]
  },
  {
   "cell_type": "code",
   "execution_count": 10,
   "id": "d333ca56-d653-430c-ba1a-725b072ee173",
   "metadata": {},
   "outputs": [
    {
     "name": "stdout",
     "output_type": "stream",
     "text": [
      "Sales Performance Dashboard created successfully!\n"
     ]
    }
   ],
   "source": [
    "import pandas as pd\n",
    "import random\n",
    "from openpyxl import Workbook\n",
    "from openpyxl.styles import Font, Alignment\n",
    "from openpyxl.chart import LineChart, Reference\n",
    "import datetime\n",
    "\n",
    "def generate_sales_data():\n",
    "    products = [\"Laptop\", \"Phone\", \"Tablet\", \"Headphones\", \"Monitor\"]\n",
    "    start_date = datetime.date(2025, 1, 1)\n",
    "    sales_data = []\n",
    "\n",
    "    for i in range(1, 31):  \n",
    "        date = start_date + datetime.timedelta(days=i - 1)\n",
    "        for product in products:\n",
    "            sales = random.randint(20, 100)\n",
    "            sales_data.append([date, product, sales])\n",
    "\n",
    "    df = pd.DataFrame(sales_data, columns=[\"Date\", \"Product\", \"Sales\"])\n",
    "    return df\n",
    "\n",
    "def create_excel_dashboard(df):\n",
    "    # Initialize Workbook\n",
    "    wb = Workbook()\n",
    "    ws = wb.active\n",
    "    ws.title = \"Sales Data\"\n",
    "\n",
    "    for row in df.itertuples(index=False):\n",
    "        ws.append(row)\n",
    "\n",
    "    total_sales = df[\"Sales\"].sum()\n",
    "    avg_sales_per_day = total_sales / df[\"Date\"].nunique()\n",
    "    top_product = df.groupby(\"Product\")[\"Sales\"].sum().idxmax()\n",
    "\n",
    "    ws_kpi = wb.create_sheet(\"KPIs\")\n",
    "    ws_kpi.append([\"Key Metric\", \"Value\"])\n",
    "    ws_kpi.append([\"Total Sales\", total_sales])\n",
    "    ws_kpi.append([\"Average Sales per Day\", avg_sales_per_day])\n",
    "    ws_kpi.append([\"Top Performing Product\", top_product])\n",
    "\n",
    "    # Style Header\n",
    "    header_font = Font(bold=True, size=12)\n",
    "    for cell in ws_kpi[1]:\n",
    "        cell.font = header_font\n",
    "        cell.alignment = Alignment(horizontal=\"center\")\n",
    "\n",
    "    # Step 3: Add a Chart\n",
    "    chart = LineChart()\n",
    "    chart.title = \"Daily Sales Trend\"\n",
    "    chart.y_axis.title = \"Sales\"\n",
    "    chart.x_axis.title = \"Date\"\n",
    "\n",
    "    data = Reference(ws, min_col=3, min_row=1, max_row=len(df) + 1, max_col=3)\n",
    "    chart.add_data(data, titles_from_data=True)\n",
    "    ws.add_chart(chart, \"E5\")\n",
    "\n",
    "    # Save Workbook\n",
    "    wb.save(\"Sales_Performance_Dashboard.xlsx\")\n",
    "\n",
    "df_sales = generate_sales_data()\n",
    "create_excel_dashboard(df_sales)\n",
    "\n",
    "print(\"done\")\n"
   ]
  },
  {
   "cell_type": "code",
   "execution_count": null,
   "id": "39e542df-ae66-43d7-8a12-e9445487bce2",
   "metadata": {},
   "outputs": [],
   "source": []
  }
 ],
 "metadata": {
  "kernelspec": {
   "display_name": "Python 3 (ipykernel)",
   "language": "python",
   "name": "python3"
  },
  "language_info": {
   "codemirror_mode": {
    "name": "ipython",
    "version": 3
   },
   "file_extension": ".py",
   "mimetype": "text/x-python",
   "name": "python",
   "nbconvert_exporter": "python",
   "pygments_lexer": "ipython3",
   "version": "3.11.8"
  }
 },
 "nbformat": 4,
 "nbformat_minor": 5
}
